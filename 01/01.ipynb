{
 "cells": [
  {
   "cell_type": "code",
   "execution_count": 1,
   "metadata": {},
   "outputs": [
    {
     "data": {
      "text/plain": [
       "1938424"
      ]
     },
     "execution_count": 1,
     "metadata": {},
     "output_type": "execute_result"
    }
   ],
   "source": [
    "import numpy as np\n",
    "f = open(\"input\", \"r\")\n",
    "sum = 0\n",
    "list1 = []\n",
    "list2 = []\n",
    "for i in f:\n",
    "    a = i.split()\n",
    "    list1.append(int(a[0]))\n",
    "    list2.append(int(a[1]))\n",
    " \n",
    "list1.sort()\n",
    "list2.sort()\n",
    "\n",
    "np.sum(abs(np.array(list1) - np.array(list2)))"
   ]
  }
 ],
 "metadata": {
  "kernelspec": {
   "display_name": "Python 3",
   "language": "python",
   "name": "python3"
  },
  "language_info": {
   "codemirror_mode": {
    "name": "ipython",
    "version": 3
   },
   "file_extension": ".py",
   "mimetype": "text/x-python",
   "name": "python",
   "nbconvert_exporter": "python",
   "pygments_lexer": "ipython3",
   "version": "3.11.10"
  }
 },
 "nbformat": 4,
 "nbformat_minor": 2
}
